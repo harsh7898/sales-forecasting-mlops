{
 "cells": [
  {
   "cell_type": "code",
   "execution_count": 15,
   "metadata": {},
   "outputs": [],
   "source": [
    "from google.cloud import storage\n",
    "import pickle\n",
    "import pandas as pd\n",
    "import io\n",
    "import os\n",
    "from sklearn.metrics import mean_squared_error, mean_absolute_error, r2_score\n"
   ]
  },
  {
   "cell_type": "code",
   "execution_count": null,
   "metadata": {},
   "outputs": [],
   "source": [
    "os.environ[\"GOOGLE_APPLICATION_CREDENTIALS\"] = \"/Users/harshsingh/Documents/Loblaw-case-study/key.json\"\n",
    "\n",
    "bucket_name = \"loblaw-bucket\"\n",
    "pickle_folder_name = \"models\"\n",
    "data_folder_name = \"processed/feature\"\n",
    "data_file_name = \"sales-feature.parquet\"\n",
    "\n",
    "product_model_files = [\n",
    "    \"27in_4K_Gaming_Monitor_sales_model.pkl\",\n",
    "    \"Google_Phone_sales_model.pkl\",\n",
    "    \"Macbook_Pro_Laptop_sales_model.pkl\",\n",
    "    \"ThinkPad_Laptop_sales_model.pkl\",\n",
    "    \"iPhone_sales_model.pkl\",\n",
    "]\n",
    "\n",
    "client = storage.Client()\n",
    "bucket = client.get_bucket(bucket_name)\n",
    "\n",
    "def download_pkl(file_name):\n",
    "    object_path = f\"{pickle_folder_name}/{file_name}\"\n",
    "    blob = bucket.blob(object_path)\n",
    "    \n",
    "    buffer = io.BytesIO()\n",
    "    blob.download_to_file(buffer)\n",
    "    buffer.seek(0)\n",
    "    model = pickle.load(buffer)\n",
    "    \n",
    "    return model\n"
   ]
  },
  {
   "cell_type": "code",
   "execution_count": 17,
   "metadata": {},
   "outputs": [],
   "source": [
    "def download_blob(folder_name, file_name):\n",
    "    object_path = f'{folder_name}/{file_name}'\n",
    "    blob = bucket.blob(object_path)\n",
    "    buffer = io.BytesIO()\n",
    "    blob.download_to_file(buffer)\n",
    "    buffer.seek(0)\n",
    "    df = pd.read_parquet(buffer)\n",
    "    return df"
   ]
  },
  {
   "cell_type": "code",
   "execution_count": 18,
   "metadata": {},
   "outputs": [],
   "source": [
    "\n",
    "# Function to evaluate model\n",
    "def evaluate_model(model, test_data, target_col=\"daily_quantity\"):\n",
    "    feature_cols = ['day_of_week', 'month', 'day', 'lag_1_quantity',\n",
    "                    'lag_7_quantity', 'lag_30_quantity', 'rolling_7d_mean',\n",
    "                    'rolling_30d_mean']\n",
    "    \n",
    "    X_test = test_data[feature_cols]\n",
    "    y_test = test_data[target_col]\n",
    "    \n",
    "    y_pred = model.predict(X_test)\n",
    "    \n",
    "    mse = mean_squared_error(y_test, y_pred)\n",
    "    rmse = mse ** 0.5\n",
    "    mae = mean_absolute_error(y_test, y_pred)\n",
    "    r2 = r2_score(y_test, y_pred)\n",
    "    \n",
    "    return {\"RMSE\": rmse, \"MAE\": mae, \"R2\": r2}\n"
   ]
  },
  {
   "cell_type": "code",
   "execution_count": null,
   "metadata": {},
   "outputs": [
    {
     "name": "stdout",
     "output_type": "stream",
     "text": [
      "Evaluating model: 27in_4K_Gaming_Monitor_sales_model.pkl\n",
      "Evaluating model: Google_Phone_sales_model.pkl\n",
      "Evaluating model: Macbook_Pro_Laptop_sales_model.pkl\n",
      "Evaluating model: ThinkPad_Laptop_sales_model.pkl\n",
      "Evaluating model: iPhone_sales_model.pkl\n",
      "27in_4K_Gaming_Monitor_sales_model.pkl -> RMSE: 0.50, MAE: 0.21, R2: 0.08\n",
      "Google_Phone_sales_model.pkl -> RMSE: 0.51, MAE: 0.22, R2: 0.04\n",
      "Macbook_Pro_Laptop_sales_model.pkl -> RMSE: 0.49, MAE: 0.23, R2: 0.09\n",
      "ThinkPad_Laptop_sales_model.pkl -> RMSE: 0.52, MAE: 0.20, R2: -0.01\n",
      "iPhone_sales_model.pkl -> RMSE: 0.53, MAE: 0.24, R2: -0.03\n"
     ]
    }
   ],
   "source": [
    "\n",
    "test_data = download_blob(data_folder_name, data_file_name)\n",
    "\n",
    "model_results = {}\n",
    "for file_name in product_model_files:\n",
    "    print(f\"Evaluating model: {file_name}\")\n",
    "    model = download_pkl(file_name)\n",
    "    \n",
    "    evaluation_metrics = evaluate_model(model, test_data)\n",
    "    model_results[file_name] = evaluation_metrics\n",
    "\n",
    "for model_name, metrics in model_results.items():\n",
    "    print(f\"{model_name} -> RMSE: {metrics['RMSE']:.2f}, MAE: {metrics['MAE']:.2f}, R2: {metrics['R2']:.2f}\")\n"
   ]
  },
  {
   "cell_type": "markdown",
   "metadata": {},
   "source": [
    "The R2 of the test model is less, because of the data variance is very less. Need more features to increase the overall performance of the models"
   ]
  },
  {
   "cell_type": "code",
   "execution_count": null,
   "metadata": {},
   "outputs": [],
   "source": []
  },
  {
   "cell_type": "code",
   "execution_count": null,
   "metadata": {},
   "outputs": [],
   "source": []
  },
  {
   "cell_type": "code",
   "execution_count": null,
   "metadata": {},
   "outputs": [],
   "source": []
  },
  {
   "cell_type": "code",
   "execution_count": null,
   "metadata": {},
   "outputs": [],
   "source": []
  },
  {
   "cell_type": "code",
   "execution_count": null,
   "metadata": {},
   "outputs": [],
   "source": []
  }
 ],
 "metadata": {
  "kernelspec": {
   "display_name": "llenv",
   "language": "python",
   "name": "python3"
  },
  "language_info": {
   "codemirror_mode": {
    "name": "ipython",
    "version": 3
   },
   "file_extension": ".py",
   "mimetype": "text/x-python",
   "name": "python",
   "nbconvert_exporter": "python",
   "pygments_lexer": "ipython3",
   "version": "3.12.4"
  }
 },
 "nbformat": 4,
 "nbformat_minor": 2
}
